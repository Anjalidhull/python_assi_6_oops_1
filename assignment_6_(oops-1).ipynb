{
 "cells": [
  {
   "cell_type": "code",
   "execution_count": null,
   "id": "4497a761-b32a-4752-93d2-b3736e8287ff",
   "metadata": {},
   "outputs": [],
   "source": [
    "Q1. Explain Class and Object with respect to Object-Oriented Programming. Give a suitable example."
   ]
  },
  {
   "cell_type": "code",
   "execution_count": null,
   "id": "f932f915-dc3d-40f6-a4d0-e2aeb0fd6b31",
   "metadata": {},
   "outputs": [],
   "source": [
    "Class :\n",
    "      class is user defined  blueprint from which objects are created.\n",
    "Objects:\n",
    "    An Object is an instance of a Class.Object consist state , Behavior and identity.\n",
    "FOR EXAMPLE:  \n",
    "    \n",
    "    \n",
    "    \n",
    "    \n",
    "    \n",
    "    \n",
    "    "
   ]
  },
  {
   "cell_type": "code",
   "execution_count": 3,
   "id": "02e416d1-d037-4e0c-ba5e-8329c24ed667",
   "metadata": {},
   "outputs": [
    {
     "name": "stdout",
     "output_type": "stream",
     "text": [
      "My name is Anjali Dhull \n",
      "My name is Natish Kumar  \n"
     ]
    }
   ],
   "source": [
    "class name:   # creating class \n",
    "    def __init__(self,name):\n",
    "        self.name=name\n",
    "        print(f\"My name is {self.name} \")\n",
    "        \n",
    "n1=name(\"Anjali Dhull\")# object 1\n",
    "n2=name(\"Natish Kumar \") # object 2"
   ]
  },
  {
   "cell_type": "code",
   "execution_count": null,
   "id": "53b78a54-ee6b-4d2e-a6f5-99d5022444d6",
   "metadata": {},
   "outputs": [],
   "source": [
    "Q2. Name the four pillars of OOPs.\n",
    "ANSWER::\n",
    "    a) Inharitance.\n",
    "    b) Encapsulation.\n",
    "    c) Polymorphisam.\n",
    "    d) Abstraction."
   ]
  },
  {
   "cell_type": "code",
   "execution_count": null,
   "id": "4a0142fe-498b-4341-8c55-fd122961b0f2",
   "metadata": {},
   "outputs": [],
   "source": [
    "Q3. Explain why the __init__() function is used. Give a suitable example.\n",
    "ANSWER:\n",
    "    \n",
    "    __init__() is constructor in python .  Constructors are used to initializing the object’s state. \n",
    "    \n",
    "Example:\n",
    "\n"
   ]
  },
  {
   "cell_type": "code",
   "execution_count": 4,
   "id": "7f0ca457-e55e-460e-8200-cd7f017ce5f2",
   "metadata": {},
   "outputs": [
    {
     "name": "stdout",
     "output_type": "stream",
     "text": [
      "Hello, my name is Nikhil\n"
     ]
    }
   ],
   "source": [
    "    # A Sample class with init method\n",
    "class Person:\n",
    "\n",
    "\t# init method or constructor\n",
    "\tdef __init__(self, name):\n",
    "\t\tself.name = name\n",
    "\n",
    "\t# Sample Method\n",
    "\tdef say_hi(self):\n",
    "\t\tprint('Hello, my name is', self.name)\n",
    "\n",
    "\n",
    "p = Person('Nikhil')\n",
    "p.say_hi()"
   ]
  },
  {
   "cell_type": "code",
   "execution_count": null,
   "id": "aff70aed-c3d1-4cd3-afdc-3e5adcf747e7",
   "metadata": {},
   "outputs": [],
   "source": [
    "Q4. Why self is used in OOPs?\n",
    "Answer :\n",
    "    self represents the instance of the class. By using the “self”  we can access the attributes and methods of the class in python\n",
    "    Self is always pointing to Current Object.\n",
    "    "
   ]
  },
  {
   "cell_type": "code",
   "execution_count": null,
   "id": "485ffe21-6eaf-4c15-888e-a752a7f54832",
   "metadata": {},
   "outputs": [],
   "source": [
    "Q5. What is inheritance? Give an example for each type of inheritance.\n",
    "Answer:\n",
    " \n",
    "    Inheritance:\n",
    "        Inheritance allows us to define a class that inherits all the methods and properties from another class.\n",
    "\n",
    "        Parent class is the class being inherited from, also called base class.\n",
    "\n",
    "        Child class is the class that inherits from another class, also called derived class.\n",
    "        \n",
    "Types :\n",
    "    There are 5 types of inheritance.\n",
    "    \n",
    "        "
   ]
  },
  {
   "cell_type": "code",
   "execution_count": null,
   "id": "47d802e4-3f8c-4522-839a-eea3c39346f2",
   "metadata": {},
   "outputs": [],
   "source": [
    "1) Single Inheritance:\n",
    "    When a child class derived from one parent class is called Inheritance.\n",
    "    Parent class ---> Child class\n",
    "    Example:\n",
    "    \n",
    "    "
   ]
  },
  {
   "cell_type": "code",
   "execution_count": 10,
   "id": "0f183204-83a4-428b-9b91-74aad6f109c6",
   "metadata": {},
   "outputs": [
    {
     "name": "stdout",
     "output_type": "stream",
     "text": [
      "Father name is  Satish kumar\n",
      "Father name is  kamaljeet \n",
      " Renuka father name is Satish kumar\n",
      " Ishika  father name is kamaljeet \n"
     ]
    }
   ],
   "source": [
    "class Father:\n",
    "    def __init__(self,f_name):\n",
    "        self.f_name=f_name\n",
    "        \n",
    "    def display(self):\n",
    "        print(\"Father name is \" , self.f_name)\n",
    "        \n",
    "class Daughter(Father):\n",
    "    def __init__(self,f_name,d_name):\n",
    "        self.f_name=f_name\n",
    "        self.d_name=d_name\n",
    "    def show (self):\n",
    "        print(f\" { self.d_name } father name is {self.f_name}\")\n",
    "        \n",
    "d1=  Daughter(\"Satish kumar\" ,\"Renuka\" )\n",
    "d2=Daughter(\"kamaljeet \",\"Ishika \")\n",
    "d1.display()\n",
    "d2.display()\n",
    "\n",
    "d1.show()\n",
    "d2.show()"
   ]
  },
  {
   "cell_type": "code",
   "execution_count": null,
   "id": "e156262a-7678-4491-847c-29bd7611bd2e",
   "metadata": {},
   "outputs": [],
   "source": [
    "2)Multiple Inheritance:\n",
    "    When a child class derived from multiple classes.\n",
    "    Parent class \n",
    "                 ---------->\n",
    "                               Child class\n",
    "                 ----------> \n",
    "    Parent class  \n",
    "    \n",
    "For example:    "
   ]
  },
  {
   "cell_type": "code",
   "execution_count": 9,
   "id": "d9b91686-7465-49f1-a062-175cb2cb98b6",
   "metadata": {},
   "outputs": [
    {
     "name": "stdout",
     "output_type": "stream",
     "text": [
      "father : Kamaljeet \n",
      "mother : Ritu\n",
      " Manveet  mother name is : Ritu \n",
      " father name is :Kamaljeet  \n"
     ]
    }
   ],
   "source": [
    "class Father:\n",
    "    def __init__(self,f_name):\n",
    "        self.f_name=f_name\n",
    "    def dis(self):\n",
    "        print(\"father :\",self.f_name)\n",
    "        \n",
    "class Mother :\n",
    "    def __init__(self,m_name):\n",
    "        self.m_name=m_name\n",
    "        \n",
    "    def sh(self): \n",
    "        print(\"mother :\",self.m_name)\n",
    "       \n",
    "class  son(Father,Mother):\n",
    "    def __init__(self,f_name,m_name,name):\n",
    "        self.f_name=f_name\n",
    "        self.m_name=m_name\n",
    "        self.name=name\n",
    "    \n",
    "    def data(self):\n",
    "        print(f\" {self.name}  mother name is : {self.m_name} \\n father name is :{self.f_name} \")\n",
    "        \n",
    "s1=son(\"Kamaljeet \" , \"Ritu\",\"Manveet\")\n",
    "s1.dis()\n",
    "s1.sh()\n",
    "s1.data()"
   ]
  },
  {
   "cell_type": "code",
   "execution_count": null,
   "id": "c2184a59-eb77-4abb-b50f-01ebe6359f18",
   "metadata": {},
   "outputs": [],
   "source": [
    "3) multilevel Inheritance :\n",
    "    when a grandchild class is derived from child class and child class derive from parent clas.\n",
    "    \n",
    "     Parent class ---> Child class ---> Grandchild class\n",
    "        \n",
    "        For example:\n",
    "            "
   ]
  },
  {
   "cell_type": "code",
   "execution_count": 2,
   "id": "318fb72c-276f-41f9-8e2c-6d2f6d30e928",
   "metadata": {},
   "outputs": [
    {
     "name": "stdout",
     "output_type": "stream",
     "text": [
      "grandfather: Sohan\n",
      "father: Mohan\n",
      " Mohan father of Rohan\n",
      "Sohan father of Mohan and grandfather of Rohan\n"
     ]
    }
   ],
   "source": [
    "class Grandfather:\n",
    "    def __init__(self,g_name):\n",
    "        self.g_name=g_name\n",
    "    def disp(self):\n",
    "        print(\"grandfather:\",self.g_name)\n",
    " \n",
    "class Father(Grandfather):\n",
    "    def __init__(self,f_name,g_name):\n",
    "        self.f_name=f_name\n",
    "        self.g_name=g_name\n",
    "    def disp1(self):\n",
    "        print(\"father:\",self.f_name)\n",
    "    \n",
    "class Son (Father):\n",
    "    def __init__(self,name,f_name,g_name):\n",
    "        self.name=name\n",
    "        self.f_name=f_name\n",
    "        self.g_name=g_name\n",
    "        \n",
    "    def  disp2(self):\n",
    "        print(f\" {self.f_name} father of {self.name}\")\n",
    "        print(f\"{self.g_name} father of {self.f_name} and grandfather of {self.name}\")\n",
    "        \n",
    "son=Son( \"Rohan\" , \"Mohan\",\"Sohan\" )  \n",
    "son.disp()\n",
    "son.disp1()\n",
    "son.disp2()\n",
    "        \n",
    "        "
   ]
  },
  {
   "cell_type": "code",
   "execution_count": null,
   "id": "567d419d-1035-44be-9eed-2fe54d5106e1",
   "metadata": {},
   "outputs": [],
   "source": [
    "4) Hierarchical Inheritance: \n",
    "    When  more then one child class are derived from parent class .\n",
    "  \n",
    "              --------->  child class\n",
    "Parent class             \n",
    "             ---------->  child class\n",
    "     \n",
    "             ---------->  child class \n",
    "            \n",
    "For example  :         "
   ]
  },
  {
   "cell_type": "code",
   "execution_count": 7,
   "id": "e150a9c3-7a99-4af5-b33b-de0154baea9e",
   "metadata": {},
   "outputs": [
    {
     "name": "stdout",
     "output_type": "stream",
     "text": [
      "School name is : D.P.S Public School\n",
      "(no of teacher in D.P.S Public School are 20)\n",
      "School name is : D.P.S Public School\n",
      "(no of students in D.P.S Public School are 2000)\n"
     ]
    }
   ],
   "source": [
    "class School :\n",
    "    def __init__(self,s_name):\n",
    "        self.s_name=s_name\n",
    "        \n",
    "    def show2(self):\n",
    "        print(\"School name is :\",self.s_name)\n",
    "        \n",
    "    \n",
    "    \n",
    "class Teacher(School):\n",
    "    def __init__(self,s_name,no_of_Teacher):\n",
    "        self.s_name=s_name\n",
    "        self.teacher=no_of_Teacher\n",
    "    def show1(self):\n",
    "        print(f\"(no of teacher in {self.s_name} are {self.teacher})\")\n",
    "        \n",
    "        \n",
    "class  Students(School):\n",
    "    def __init__(self,s_name,no_of_student):\n",
    "        self.s_name=s_name\n",
    "        self.students=no_of_student\n",
    "    \n",
    "    def show(self):\n",
    "        print(f\"(no of students in {self.s_name} are {self.students})\")\n",
    "    \n",
    "obj1= Teacher(\"D.P.S Public School\",20)\n",
    "obj2=Students(\"D.P.S Public School\",2000)\n",
    "obj1.show2()\n",
    "obj1.show1()\n",
    "obj2.show2()\n",
    "obj2.show()\n",
    "\n",
    "        \n",
    "        \n",
    "        "
   ]
  },
  {
   "cell_type": "code",
   "execution_count": null,
   "id": "27174be5-54a4-456e-b113-f321efbae008",
   "metadata": {},
   "outputs": [],
   "source": [
    "5)Hybrid Inheritance: \n",
    "Inheritance consisting of multiple types of inheritance is called hybrid inheritance.\n",
    "\n",
    "                         ---------> class A\n",
    "class F -------> class B\n",
    "                        ----------> class B\n",
    "        -------->  class E          \n",
    "class G \n",
    "for example "
   ]
  },
  {
   "cell_type": "code",
   "execution_count": 5,
   "id": "e1b97009-8920-4b1f-9997-e01beeebd432",
   "metadata": {},
   "outputs": [
    {
     "name": "stdout",
     "output_type": "stream",
     "text": [
      "Passanger name is : Indian Express\n",
      "Anjali  go from Kaithal  to Delhi  \n",
      "Anjali in Railway agency Indian Express pay 4500\n"
     ]
    }
   ],
   "source": [
    "class Railway:\n",
    "    def __init__(self,R_name):\n",
    "        self.R_name=R_name\n",
    "        \n",
    "    def details(self):\n",
    "        print(\"Rail agency is : \" , self.R_name)\n",
    "        \n",
    "class Passanger():\n",
    "    def __init__(self,P_name):\n",
    "       # self.R_name=R_name\n",
    "        self.P_name=P_name\n",
    "        \n",
    "    def details1(self):\n",
    "        print(\"Passanger name is :\",self.P_name)\n",
    "   \n",
    "class Details(Passanger):\n",
    "    def __init__(self,P_name,from_come,to_go):\n",
    "        self.P_name=P_name\n",
    "        self.fromm=from_come\n",
    "        self.go=to_go\n",
    "    def data(self):\n",
    "        print(f\"{self.P_name}  go from {self.fromm}  to {self.go}  \")\n",
    "class Pay(Railway,Passanger):\n",
    "    def __init__(self,R_name,P_name, pay):\n",
    "        self.R_name=R_name\n",
    "        self.P_name=P_name\n",
    "        self.pay=pay\n",
    "        \n",
    "    def sho(self):    \n",
    "        print(f\"{self.P_name} in Railway agency {self.R_name} pay {self.pay}\")\n",
    "    \n",
    "P1=Passanger(\"Indian Express\")\n",
    "P2=Details(\"Anjali\",\"Kaithal\",\"Delhi\")\n",
    "P3=Pay(\"Indian Express\", \"Anjali\",4500)\n",
    "P1.details1()\n",
    "P2.data()\n",
    "P3.sho()\n",
    "  \n"
   ]
  },
  {
   "cell_type": "code",
   "execution_count": null,
   "id": "88da0823-6ed0-4f47-a898-72683bc2599e",
   "metadata": {},
   "outputs": [],
   "source": []
  }
 ],
 "metadata": {
  "kernelspec": {
   "display_name": "Python 3 (ipykernel)",
   "language": "python",
   "name": "python3"
  },
  "language_info": {
   "codemirror_mode": {
    "name": "ipython",
    "version": 3
   },
   "file_extension": ".py",
   "mimetype": "text/x-python",
   "name": "python",
   "nbconvert_exporter": "python",
   "pygments_lexer": "ipython3",
   "version": "3.10.8"
  }
 },
 "nbformat": 4,
 "nbformat_minor": 5
}
